{
 "cells": [
  {
   "cell_type": "markdown",
   "metadata": {},
   "source": [
    "<h2 align=center> Principal Component Analysis</h2>"
   ]
  },
  {
   "cell_type": "markdown",
   "metadata": {},
   "source": [
    "### Task 1: Load the Data and Libraries\n",
    "---"
   ]
  },
  {
   "cell_type": "code",
   "metadata": {
    "ExecuteTime": {
     "end_time": "2024-04-30T13:59:05.884123Z",
     "start_time": "2024-04-30T13:59:05.867209Z"
    }
   },
   "source": [
    "%matplotlib inline\n",
    "import pandas as pd\n",
    "import matplotlib.pyplot as plt\n",
    "import numpy as np\n",
    "import seaborn as sns"
   ],
   "outputs": [],
   "execution_count": 1
  },
  {
   "cell_type": "code",
   "metadata": {
    "ExecuteTime": {
     "end_time": "2024-04-30T13:59:05.989197Z",
     "start_time": "2024-04-30T13:59:05.985485Z"
    }
   },
   "source": [
    "plt.style.use(\"ggplot\")\n",
    "plt.rcParams[\"figure.figsize\"] = (12,8)"
   ],
   "outputs": [],
   "execution_count": 2
  },
  {
   "cell_type": "code",
   "metadata": {
    "ExecuteTime": {
     "end_time": "2024-04-30T13:59:06.638675Z",
     "start_time": "2024-04-30T13:59:06.001490Z"
    }
   },
   "source": [
    "# data URL: https://archive.ics.uci.edu/ml/machine-learning-databases/iris/iris.data\n",
    "df=pd.read_csv('https://archive.ics.uci.edu/ml/machine-learning-databases/iris/iris.data')"
   ],
   "outputs": [],
   "execution_count": 3
  },
  {
   "cell_type": "code",
   "metadata": {
    "ExecuteTime": {
     "end_time": "2024-04-30T13:59:06.654138Z",
     "start_time": "2024-04-30T13:59:06.639713Z"
    }
   },
   "source": "df.head(10)",
   "outputs": [
    {
     "data": {
      "text/plain": [
       "   5.1  3.5  1.4  0.2  Iris-setosa\n",
       "0  4.9  3.0  1.4  0.2  Iris-setosa\n",
       "1  4.7  3.2  1.3  0.2  Iris-setosa\n",
       "2  4.6  3.1  1.5  0.2  Iris-setosa\n",
       "3  5.0  3.6  1.4  0.2  Iris-setosa\n",
       "4  5.4  3.9  1.7  0.4  Iris-setosa\n",
       "5  4.6  3.4  1.4  0.3  Iris-setosa\n",
       "6  5.0  3.4  1.5  0.2  Iris-setosa\n",
       "7  4.4  2.9  1.4  0.2  Iris-setosa\n",
       "8  4.9  3.1  1.5  0.1  Iris-setosa\n",
       "9  5.4  3.7  1.5  0.2  Iris-setosa"
      ],
      "text/html": [
       "<div>\n",
       "<style scoped>\n",
       "    .dataframe tbody tr th:only-of-type {\n",
       "        vertical-align: middle;\n",
       "    }\n",
       "\n",
       "    .dataframe tbody tr th {\n",
       "        vertical-align: top;\n",
       "    }\n",
       "\n",
       "    .dataframe thead th {\n",
       "        text-align: right;\n",
       "    }\n",
       "</style>\n",
       "<table border=\"1\" class=\"dataframe\">\n",
       "  <thead>\n",
       "    <tr style=\"text-align: right;\">\n",
       "      <th></th>\n",
       "      <th>5.1</th>\n",
       "      <th>3.5</th>\n",
       "      <th>1.4</th>\n",
       "      <th>0.2</th>\n",
       "      <th>Iris-setosa</th>\n",
       "    </tr>\n",
       "  </thead>\n",
       "  <tbody>\n",
       "    <tr>\n",
       "      <th>0</th>\n",
       "      <td>4.9</td>\n",
       "      <td>3.0</td>\n",
       "      <td>1.4</td>\n",
       "      <td>0.2</td>\n",
       "      <td>Iris-setosa</td>\n",
       "    </tr>\n",
       "    <tr>\n",
       "      <th>1</th>\n",
       "      <td>4.7</td>\n",
       "      <td>3.2</td>\n",
       "      <td>1.3</td>\n",
       "      <td>0.2</td>\n",
       "      <td>Iris-setosa</td>\n",
       "    </tr>\n",
       "    <tr>\n",
       "      <th>2</th>\n",
       "      <td>4.6</td>\n",
       "      <td>3.1</td>\n",
       "      <td>1.5</td>\n",
       "      <td>0.2</td>\n",
       "      <td>Iris-setosa</td>\n",
       "    </tr>\n",
       "    <tr>\n",
       "      <th>3</th>\n",
       "      <td>5.0</td>\n",
       "      <td>3.6</td>\n",
       "      <td>1.4</td>\n",
       "      <td>0.2</td>\n",
       "      <td>Iris-setosa</td>\n",
       "    </tr>\n",
       "    <tr>\n",
       "      <th>4</th>\n",
       "      <td>5.4</td>\n",
       "      <td>3.9</td>\n",
       "      <td>1.7</td>\n",
       "      <td>0.4</td>\n",
       "      <td>Iris-setosa</td>\n",
       "    </tr>\n",
       "    <tr>\n",
       "      <th>5</th>\n",
       "      <td>4.6</td>\n",
       "      <td>3.4</td>\n",
       "      <td>1.4</td>\n",
       "      <td>0.3</td>\n",
       "      <td>Iris-setosa</td>\n",
       "    </tr>\n",
       "    <tr>\n",
       "      <th>6</th>\n",
       "      <td>5.0</td>\n",
       "      <td>3.4</td>\n",
       "      <td>1.5</td>\n",
       "      <td>0.2</td>\n",
       "      <td>Iris-setosa</td>\n",
       "    </tr>\n",
       "    <tr>\n",
       "      <th>7</th>\n",
       "      <td>4.4</td>\n",
       "      <td>2.9</td>\n",
       "      <td>1.4</td>\n",
       "      <td>0.2</td>\n",
       "      <td>Iris-setosa</td>\n",
       "    </tr>\n",
       "    <tr>\n",
       "      <th>8</th>\n",
       "      <td>4.9</td>\n",
       "      <td>3.1</td>\n",
       "      <td>1.5</td>\n",
       "      <td>0.1</td>\n",
       "      <td>Iris-setosa</td>\n",
       "    </tr>\n",
       "    <tr>\n",
       "      <th>9</th>\n",
       "      <td>5.4</td>\n",
       "      <td>3.7</td>\n",
       "      <td>1.5</td>\n",
       "      <td>0.2</td>\n",
       "      <td>Iris-setosa</td>\n",
       "    </tr>\n",
       "  </tbody>\n",
       "</table>\n",
       "</div>"
      ]
     },
     "execution_count": 4,
     "metadata": {},
     "output_type": "execute_result"
    }
   ],
   "execution_count": 4
  },
  {
   "cell_type": "code",
   "metadata": {
    "ExecuteTime": {
     "end_time": "2024-04-30T13:59:06.663975Z",
     "start_time": "2024-04-30T13:59:06.655173Z"
    }
   },
   "source": [
    "### rename the columns \n",
    "df.columns=['sepal length', 'sepal width', 'petal length', 'petal width', 'class']\n",
    "df.head()\n"
   ],
   "outputs": [
    {
     "data": {
      "text/plain": [
       "   sepal length  sepal width  petal length  petal width        class\n",
       "0           4.9          3.0           1.4          0.2  Iris-setosa\n",
       "1           4.7          3.2           1.3          0.2  Iris-setosa\n",
       "2           4.6          3.1           1.5          0.2  Iris-setosa\n",
       "3           5.0          3.6           1.4          0.2  Iris-setosa\n",
       "4           5.4          3.9           1.7          0.4  Iris-setosa"
      ],
      "text/html": [
       "<div>\n",
       "<style scoped>\n",
       "    .dataframe tbody tr th:only-of-type {\n",
       "        vertical-align: middle;\n",
       "    }\n",
       "\n",
       "    .dataframe tbody tr th {\n",
       "        vertical-align: top;\n",
       "    }\n",
       "\n",
       "    .dataframe thead th {\n",
       "        text-align: right;\n",
       "    }\n",
       "</style>\n",
       "<table border=\"1\" class=\"dataframe\">\n",
       "  <thead>\n",
       "    <tr style=\"text-align: right;\">\n",
       "      <th></th>\n",
       "      <th>sepal length</th>\n",
       "      <th>sepal width</th>\n",
       "      <th>petal length</th>\n",
       "      <th>petal width</th>\n",
       "      <th>class</th>\n",
       "    </tr>\n",
       "  </thead>\n",
       "  <tbody>\n",
       "    <tr>\n",
       "      <th>0</th>\n",
       "      <td>4.9</td>\n",
       "      <td>3.0</td>\n",
       "      <td>1.4</td>\n",
       "      <td>0.2</td>\n",
       "      <td>Iris-setosa</td>\n",
       "    </tr>\n",
       "    <tr>\n",
       "      <th>1</th>\n",
       "      <td>4.7</td>\n",
       "      <td>3.2</td>\n",
       "      <td>1.3</td>\n",
       "      <td>0.2</td>\n",
       "      <td>Iris-setosa</td>\n",
       "    </tr>\n",
       "    <tr>\n",
       "      <th>2</th>\n",
       "      <td>4.6</td>\n",
       "      <td>3.1</td>\n",
       "      <td>1.5</td>\n",
       "      <td>0.2</td>\n",
       "      <td>Iris-setosa</td>\n",
       "    </tr>\n",
       "    <tr>\n",
       "      <th>3</th>\n",
       "      <td>5.0</td>\n",
       "      <td>3.6</td>\n",
       "      <td>1.4</td>\n",
       "      <td>0.2</td>\n",
       "      <td>Iris-setosa</td>\n",
       "    </tr>\n",
       "    <tr>\n",
       "      <th>4</th>\n",
       "      <td>5.4</td>\n",
       "      <td>3.9</td>\n",
       "      <td>1.7</td>\n",
       "      <td>0.4</td>\n",
       "      <td>Iris-setosa</td>\n",
       "    </tr>\n",
       "  </tbody>\n",
       "</table>\n",
       "</div>"
      ]
     },
     "execution_count": 5,
     "metadata": {},
     "output_type": "execute_result"
    }
   ],
   "execution_count": 5
  },
  {
   "metadata": {
    "ExecuteTime": {
     "end_time": "2024-04-30T13:59:06.671689Z",
     "start_time": "2024-04-30T13:59:06.666030Z"
    }
   },
   "cell_type": "code",
   "source": [
    "### check for na and duplicates\n",
    "df.isnull().sum()"
   ],
   "outputs": [
    {
     "data": {
      "text/plain": [
       "sepal length    0\n",
       "sepal width     0\n",
       "petal length    0\n",
       "petal width     0\n",
       "class           0\n",
       "dtype: int64"
      ]
     },
     "execution_count": 6,
     "metadata": {},
     "output_type": "execute_result"
    }
   ],
   "execution_count": 6
  },
  {
   "metadata": {
    "ExecuteTime": {
     "end_time": "2024-04-30T13:59:06.680491Z",
     "start_time": "2024-04-30T13:59:06.672728Z"
    }
   },
   "cell_type": "code",
   "source": [
    "df.duplicated().sum()\n",
    "df.dropna(inplace=True)"
   ],
   "outputs": [],
   "execution_count": 7
  },
  {
   "metadata": {
    "ExecuteTime": {
     "end_time": "2024-04-30T13:59:06.691327Z",
     "start_time": "2024-04-30T13:59:06.681518Z"
    }
   },
   "cell_type": "code",
   "source": [
    "df.info()\n",
    "df.shape"
   ],
   "outputs": [
    {
     "name": "stdout",
     "output_type": "stream",
     "text": [
      "<class 'pandas.core.frame.DataFrame'>\n",
      "RangeIndex: 149 entries, 0 to 148\n",
      "Data columns (total 5 columns):\n",
      " #   Column        Non-Null Count  Dtype  \n",
      "---  ------        --------------  -----  \n",
      " 0   sepal length  149 non-null    float64\n",
      " 1   sepal width   149 non-null    float64\n",
      " 2   petal length  149 non-null    float64\n",
      " 3   petal width   149 non-null    float64\n",
      " 4   class         149 non-null    object \n",
      "dtypes: float64(4), object(1)\n",
      "memory usage: 5.9+ KB\n"
     ]
    },
    {
     "data": {
      "text/plain": [
       "(149, 5)"
      ]
     },
     "execution_count": 8,
     "metadata": {},
     "output_type": "execute_result"
    }
   ],
   "execution_count": 8
  },
  {
   "cell_type": "markdown",
   "metadata": {},
   "source": [
    "### Task 3: Visualize the Data\n",
    "---"
   ]
  },
  {
   "cell_type": "code",
   "metadata": {
    "ExecuteTime": {
     "end_time": "2024-04-30T13:59:07.010681Z",
     "start_time": "2024-04-30T13:59:06.692354Z"
    }
   },
   "source": [
    "sns.scatterplot(x='sepal length', y='sepal width', hue='class', data=df)\n",
    "##we have so much over lap in the variables "
   ],
   "outputs": [
    {
     "data": {
      "text/plain": [
       "<Axes: xlabel='sepal length', ylabel='sepal width'>"
      ]
     },
     "execution_count": 9,
     "metadata": {},
     "output_type": "execute_result"
    },
    {
     "data": {
      "text/plain": [
       "<Figure size 1200x800 with 1 Axes>"
      ],
      "image/png": "[encoded data removed]"
     },
     "metadata": {},
     "output_type": "display_data"
    }
   ],
   "execution_count": 9
  },
  {
   "cell_type": "markdown",
   "metadata": {},
   "source": [
    " "
   ]
  },
  {
   "cell_type": "markdown",
   "metadata": {},
   "source": [
    "### Task 4: Standardize the Data\n",
    "---"
   ]
  },
  {
   "cell_type": "code",
   "metadata": {
    "ExecuteTime": {
     "end_time": "2024-04-30T13:59:07.015319Z",
     "start_time": "2024-04-30T13:59:07.011710Z"
    }
   },
   "source": [
    "## define our dep and indp\n",
    "x=df.iloc[:,0:4].values\n",
    "y=df['class'].values"
   ],
   "outputs": [],
   "execution_count": 10
  },
  {
   "metadata": {
    "ExecuteTime": {
     "end_time": "2024-04-30T13:59:07.115627Z",
     "start_time": "2024-04-30T13:59:07.016349Z"
    }
   },
   "cell_type": "code",
   "source": [
    "from sklearn.preprocessing import StandardScaler\n",
    "sc=StandardScaler()\n",
    "x=sc.fit_transform(x)"
   ],
   "outputs": [],
   "execution_count": 11
  },
  {
   "cell_type": "markdown",
   "metadata": {},
   "source": [
    "### Task 5: Compute the Eigenvectors and Eigenvalues\n",
    "---"
   ]
  },
  {
   "cell_type": "markdown",
   "metadata": {},
   "source": [
    "Covariance: $\\sigma_{jk} = \\frac{1}{n-1}\\sum_{i=1}^{N}(x_{ij}-\\bar{x_j})(x_{ik}-\\bar{x_k})$\n",
    "\n",
    "Coviance matrix: $Σ = \\frac{1}{n-1}((X-\\bar{x})^T(X-\\bar{x}))$"
   ]
  },
  {
   "metadata": {
    "ExecuteTime": {
     "end_time": "2024-04-30T13:59:07.122852Z",
     "start_time": "2024-04-30T13:59:07.117669Z"
    }
   },
   "cell_type": "code",
   "source": [
    "cov_matrix = np.cov(x, rowvar=False)\n",
    "cov_matrix"
   ],
   "outputs": [
    {
     "data": {
      "text/plain": [
       "array([[ 1.00675676, -0.10448539,  0.87716999,  0.82249094],\n",
       "       [-0.10448539,  1.00675676, -0.41802325, -0.35310295],\n",
       "       [ 0.87716999, -0.41802325,  1.00675676,  0.96881642],\n",
       "       [ 0.82249094, -0.35310295,  0.96881642,  1.00675676]])"
      ]
     },
     "execution_count": 12,
     "metadata": {},
     "output_type": "execute_result"
    }
   ],
   "execution_count": 12
  },
  {
   "metadata": {
    "ExecuteTime": {
     "end_time": "2024-04-30T13:59:07.130632Z",
     "start_time": "2024-04-30T13:59:07.123886Z"
    }
   },
   "cell_type": "code",
   "source": [
    "# Compute eigenvalues and eigenvectors of the covariance matrix\n",
    "eigenvalues, eigenvectors = np.linalg.eig(cov_matrix)\n",
    "\n",
    "print(\"Eigenvalues:\")\n",
    "print(eigenvalues)\n",
    "\n",
    "print(\"\\nEigenvectors:\")\n",
    "print(eigenvectors)"
   ],
   "outputs": [
    {
     "name": "stdout",
     "output_type": "stream",
     "text": [
      "Eigenvalues:\n",
      "[2.92442837 0.93215233 0.14946373 0.02098259]\n",
      "\n",
      "Eigenvectors:\n",
      "[[ 0.52308496 -0.36956962 -0.72154279  0.26301409]\n",
      " [-0.25956935 -0.92681168  0.2411952  -0.12437342]\n",
      " [ 0.58184289 -0.01912775  0.13962963 -0.80099722]\n",
      " [ 0.56609604 -0.06381646  0.63380158  0.52321917]]\n"
     ]
    }
   ],
   "execution_count": 13
  },
  {
   "cell_type": "markdown",
   "metadata": {},
   "source": [
    "We can prove this by looking at the covariance matrix. It has the property that it is symmetric. We also constrain the each of the columns (eigenvectors) such that the values sum to one. Thus, they are orthonormal to each other.\n",
    "\n",
    "Eigendecomposition of the covriance matrix:  $Σ = W\\wedge W^{-1}$"
   ]
  },
  {
   "cell_type": "markdown",
   "metadata": {},
   "source": [
    "### Task 6: Singular Value Decomposition (SVD)\n",
    "---"
   ]
  },
  {
   "cell_type": "code",
   "metadata": {
    "ExecuteTime": {
     "end_time": "2024-04-30T13:59:07.138356Z",
     "start_time": "2024-04-30T13:59:07.131652Z"
    }
   },
   "source": [
    "# Perform SVD\n",
    "U, S, Vt = np.linalg.svd(x)\n",
    "\n",
    "# Note: Vt is the transpose of V, which is often used in practice\n",
    "\n",
    "print(\"U matrix:\")\n",
    "print(U)\n",
    "\n",
    "print(\"\\nS matrix:\")\n",
    "print(np.diag(S))  # Convert S to a diagonal matrix for easier viewing\n",
    "\n",
    "print(\"\\nV transpose matrix:\")\n",
    "print(Vt)"
   ],
   "outputs": [
    {
     "name": "stdout",
     "output_type": "stream",
     "text": [
      "U matrix:\n",
      "[[-1.01323228e-01 -5.48526152e-02 -4.86404082e-02 ...  6.02782520e-02\n",
      "   7.41017006e-02  3.88587837e-02]\n",
      " [-1.14783048e-01 -2.60381513e-02  1.05611016e-02 ...  2.11304386e-03\n",
      "  -6.93869691e-02  1.89285545e-02]\n",
      " [-1.11750383e-01 -4.79264006e-02  2.06543001e-02 ... -8.90400058e-03\n",
      "  -1.71769951e-01 -1.44902735e-01]\n",
      " ...\n",
      " [ 7.25456290e-02  2.25281606e-02  3.81463035e-02 ...  9.89021018e-01\n",
      "  -1.65548516e-02 -2.85237140e-03]\n",
      " [ 6.58086084e-02  8.64869575e-02  1.98026079e-01 ... -1.40860762e-02\n",
      "   9.48037843e-01 -2.45045850e-02]\n",
      " [ 4.55101695e-02 -1.85780324e-03  1.12395728e-01 ... -1.53104726e-04\n",
      "  -2.29804954e-02  9.77053974e-01]]\n",
      "\n",
      "S matrix:\n",
      "[[20.80421589  0.          0.          0.        ]\n",
      " [ 0.         11.74557554  0.          0.        ]\n",
      " [ 0.          0.          4.70325768  0.        ]\n",
      " [ 0.          0.          0.          1.76222125]]\n",
      "\n",
      "V transpose matrix:\n",
      "[[ 0.52308496 -0.25956935  0.58184289  0.56609604]\n",
      " [ 0.36956962  0.92681168  0.01912775  0.06381646]\n",
      " [-0.72154279  0.2411952   0.13962963  0.63380158]\n",
      " [ 0.26301409 -0.12437342 -0.80099722  0.52321917]]\n"
     ]
    }
   ],
   "execution_count": 14
  },
  {
   "cell_type": "code",
   "metadata": {
    "ExecuteTime": {
     "end_time": "2024-04-30T13:59:07.143574Z",
     "start_time": "2024-04-30T13:59:07.139382Z"
    }
   },
   "source": [
    "for val in eigenvalues:\n",
    "    print(val)"
   ],
   "outputs": [
    {
     "name": "stdout",
     "output_type": "stream",
     "text": [
      "2.9244283691111135\n",
      "0.9321523302535066\n",
      "0.1494637348981336\n",
      "0.02098259276427038\n"
     ]
    }
   ],
   "execution_count": 15
  },
  {
   "cell_type": "markdown",
   "metadata": {},
   "source": [
    " "
   ]
  },
  {
   "cell_type": "markdown",
   "metadata": {},
   "source": [
    "### Task 7: Picking Principal Components Using the Explained Variance\n",
    "---"
   ]
  },
  {
   "metadata": {
    "ExecuteTime": {
     "end_time": "2024-04-30T13:59:07.274697Z",
     "start_time": "2024-04-30T13:59:07.144614Z"
    }
   },
   "cell_type": "code",
   "source": [
    "### calculating the variance that capture by our pca\n",
    "from sklearn.decomposition import PCA\n",
    "# Perform PCA\n",
    "pca = PCA()\n",
    "pca.fit(x)\n",
    "\n",
    "pca.explained_variance_ratio_\n",
    "### we see that the first two can be so good"
   ],
   "outputs": [
    {
     "data": {
      "text/plain": [
       "array([0.72620033, 0.23147407, 0.03711516, 0.00521044])"
      ]
     },
     "execution_count": 16,
     "metadata": {},
     "output_type": "execute_result"
    }
   ],
   "execution_count": 16
  },
  {
   "cell_type": "code",
   "metadata": {
    "ExecuteTime": {
     "end_time": "2024-04-30T13:59:07.478160Z",
     "start_time": "2024-04-30T13:59:07.275720Z"
    }
   },
   "source": [
    "# Plot the explained variance ratio\n",
    "plt.figure(figsize=(8, 6))\n",
    "plt.plot(np.cumsum(pca.explained_variance_ratio_), marker='o')\n",
    "plt.xlabel('Number of Components')\n",
    "plt.ylabel('Cumulative Explained Variance Ratio')\n",
    "plt.title('Explained Variance Ratio vs. Number of Components')\n",
    "plt.grid(True)\n",
    "plt.show()"
   ],
   "outputs": [
    {
     "data": {
      "text/plain": [
       "<Figure size 800x600 with 1 Axes>"
      ],
      "image/png": "[encoded data removed]"
     },
     "metadata": {},
     "output_type": "display_data"
    }
   ],
   "execution_count": 17
  },
  {
   "cell_type": "markdown",
   "metadata": {},
   "source": [
    "### Task 8: Project Data Onto Lower-Dimensional Linear Subspace\n",
    "---"
   ]
  },
  {
   "cell_type": "code",
   "metadata": {
    "ExecuteTime": {
     "end_time": "2024-04-30T13:59:07.483363Z",
     "start_time": "2024-04-30T13:59:07.479227Z"
    }
   },
   "source": "eigenvectors",
   "outputs": [
    {
     "data": {
      "text/plain": [
       "array([[ 0.52308496, -0.36956962, -0.72154279,  0.26301409],\n",
       "       [-0.25956935, -0.92681168,  0.2411952 , -0.12437342],\n",
       "       [ 0.58184289, -0.01912775,  0.13962963, -0.80099722],\n",
       "       [ 0.56609604, -0.06381646,  0.63380158,  0.52321917]])"
      ]
     },
     "execution_count": 18,
     "metadata": {},
     "output_type": "execute_result"
    }
   ],
   "execution_count": 18
  },
  {
   "cell_type": "code",
   "metadata": {
    "ExecuteTime": {
     "end_time": "2024-04-30T13:59:07.490599Z",
     "start_time": "2024-04-30T13:59:07.484397Z"
    }
   },
   "source": [
    "projection_matrix=(eigenvectors.T[:][:])[:2].T\n",
    "projection_matrix\n"
   ],
   "outputs": [
    {
     "data": {
      "text/plain": [
       "array([[ 0.52308496, -0.36956962],\n",
       "       [-0.25956935, -0.92681168],\n",
       "       [ 0.58184289, -0.01912775],\n",
       "       [ 0.56609604, -0.06381646]])"
      ]
     },
     "execution_count": 19,
     "metadata": {},
     "output_type": "execute_result"
    }
   ],
   "execution_count": 19
  },
  {
   "cell_type": "code",
   "metadata": {
    "ExecuteTime": {
     "end_time": "2024-04-30T13:59:07.500458Z",
     "start_time": "2024-04-30T13:59:07.491624Z"
    }
   },
   "source": [
    "x_pca=x.dot(projection_matrix)\n",
    "x_pca"
   ],
   "outputs": [
    {
     "data": {
      "text/plain": [
       "array([[-2.10795032,  0.64427554],\n",
       "       [-2.38797131,  0.30583307],\n",
       "       [-2.32487909,  0.56292316],\n",
       "       [-2.40508635, -0.687591  ],\n",
       "       [-2.08320351, -1.53025171],\n",
       "       [-2.4636848 , -0.08795413],\n",
       "       [-2.25174963, -0.25964365],\n",
       "       [-2.3645813 ,  1.08255676],\n",
       "       [-2.20946338,  0.43707676],\n",
       "       [-2.17862017, -1.08221046],\n",
       "       [-2.34525657, -0.17122946],\n",
       "       [-2.24590315,  0.6974389 ],\n",
       "       [-2.66214582,  0.92447316],\n",
       "       [-2.2050227 , -1.90150522],\n",
       "       [-2.25993023, -2.73492274],\n",
       "       [-2.21591283, -1.52588897],\n",
       "       [-2.20705382, -0.52623535],\n",
       "       [-1.9077081 , -1.4415791 ],\n",
       "       [-2.35411558, -1.17088308],\n",
       "       [-1.93202643, -0.44083479],\n",
       "       [-2.21942518, -0.96477499],\n",
       "       [-2.79116421, -0.50421849],\n",
       "       [-1.83814105, -0.11729122],\n",
       "       [-2.24572458, -0.17450151],\n",
       "       [-1.97825353,  0.59734172],\n",
       "       [-2.06935091, -0.27755619],\n",
       "       [-2.18514506, -0.56366755],\n",
       "       [-2.15824269, -0.34805785],\n",
       "       [-2.28843932,  0.30256102],\n",
       "       [-2.16501749,  0.47232759],\n",
       "       [-1.8491597 , -0.45547527],\n",
       "       [-2.62023392, -1.84237072],\n",
       "       [-2.44885384, -2.1984673 ],\n",
       "       [-2.20946338,  0.43707676],\n",
       "       [-2.23112223,  0.17266644],\n",
       "       [-2.06147331, -0.6957435 ],\n",
       "       [-2.20946338,  0.43707676],\n",
       "       [-2.45783833,  0.86912843],\n",
       "       [-2.1884075 , -0.30439609],\n",
       "       [-2.30357329, -0.48039222],\n",
       "       [-1.89932763,  2.31759817],\n",
       "       [-2.57799771,  0.4400904 ],\n",
       "       [-1.98020921, -0.50889705],\n",
       "       [-2.14679556, -1.18365675],\n",
       "       [-2.09668176,  0.68061705],\n",
       "       [-2.39554894, -1.16356284],\n",
       "       [-2.41813611,  0.34949483],\n",
       "       [-2.24196231, -1.03745802],\n",
       "       [-2.22484727, -0.04403395],\n",
       "       [ 1.09225538, -0.86148748],\n",
       "       [ 0.72045861, -0.59920238],\n",
       "       [ 1.2299583 , -0.61280832],\n",
       "       [ 0.37598859,  1.756516  ],\n",
       "       [ 1.05729685,  0.21303055],\n",
       "       [ 0.36816104,  0.58896262],\n",
       "       [ 0.73800214, -0.77956125],\n",
       "       [-0.52021731,  1.84337921],\n",
       "       [ 0.9113379 , -0.02941906],\n",
       "       [-0.01292322,  1.02537703],\n",
       "       [-0.15020174,  2.65452146],\n",
       "       [ 0.42437533,  0.05686991],\n",
       "       [ 0.52894687,  1.77250558],\n",
       "       [ 0.70241525,  0.18484154],\n",
       "       [-0.05385675,  0.42901221],\n",
       "       [ 0.86277668, -0.50943908],\n",
       "       [ 0.33388091,  0.18785518],\n",
       "       [ 0.13504146,  0.7883247 ],\n",
       "       [ 1.19457128,  1.63549265],\n",
       "       [ 0.13677262,  1.30063807],\n",
       "       [ 0.72711201, -0.40394501],\n",
       "       [ 0.45564294,  0.41540628],\n",
       "       [ 1.21038365,  0.94282042],\n",
       "       [ 0.61327355,  0.4161824 ],\n",
       "       [ 0.68512164,  0.06335788],\n",
       "       [ 0.85951424, -0.25016762],\n",
       "       [ 1.23906722,  0.08500278],\n",
       "       [ 1.34575245, -0.32669695],\n",
       "       [ 0.64732915,  0.22336443],\n",
       "       [-0.06728496,  1.05414028],\n",
       "       [ 0.10033285,  1.56100021],\n",
       "       [-0.00745518,  1.57050182],\n",
       "       [ 0.2179082 ,  0.77368423],\n",
       "       [ 1.04116321,  0.63744742],\n",
       "       [ 0.20719664,  0.27736006],\n",
       "       [ 0.42154138, -0.85764157],\n",
       "       [ 1.03691937, -0.52112206],\n",
       "       [ 1.015435  ,  1.39413373],\n",
       "       [ 0.0519502 ,  0.20903977],\n",
       "       [ 0.25582921,  1.32747797],\n",
       "       [ 0.25384813,  1.11700714],\n",
       "       [ 0.60915822, -0.02858679],\n",
       "       [ 0.31116522,  0.98711256],\n",
       "       [-0.39679548,  2.01314578],\n",
       "       [ 0.26536661,  0.85150613],\n",
       "       [ 0.07385897,  0.17160757],\n",
       "       [ 0.20854936,  0.37771566],\n",
       "       [ 0.55843737,  0.15286277],\n",
       "       [-0.47853403,  1.53421644],\n",
       "       [ 0.23545172,  0.59332536],\n",
       "       [ 1.8408037 , -0.86943848],\n",
       "       [ 1.13831104,  0.70171953],\n",
       "       [ 2.19615974, -0.54916658],\n",
       "       [ 1.42613827,  0.05187679],\n",
       "       [ 1.8575403 , -0.28797217],\n",
       "       [ 2.74511173, -0.78056359],\n",
       "       [ 0.34010583,  1.5568955 ],\n",
       "       [ 2.29180093, -0.40328242],\n",
       "       [ 1.98618025,  0.72876171],\n",
       "       [ 2.26382116, -1.91685818],\n",
       "       [ 1.35591821, -0.69255356],\n",
       "       [ 1.58471851,  0.43102351],\n",
       "       [ 1.87342402, -0.41054652],\n",
       "       [ 1.23656166,  1.16818977],\n",
       "       [ 1.45128483,  0.4451459 ],\n",
       "       [ 1.58276283, -0.67521526],\n",
       "       [ 1.45956552, -0.25105642],\n",
       "       [ 2.43560434, -2.55096977],\n",
       "       [ 3.29752602,  0.01266612],\n",
       "       [ 1.23377366,  1.71954411],\n",
       "       [ 2.03218282, -0.90334021],\n",
       "       [ 0.95980311,  0.57047585],\n",
       "       [ 2.88717988, -0.38895776],\n",
       "       [ 1.31405636,  0.48854962],\n",
       "       [ 1.69619746, -1.01153249],\n",
       "       [ 1.94868773, -0.99881497],\n",
       "       [ 1.1574572 ,  0.31987373],\n",
       "       [ 1.007133  , -0.06550254],\n",
       "       [ 1.7733922 ,  0.19641059],\n",
       "       [ 1.85327106, -0.55077372],\n",
       "       [ 2.4234788 , -0.2397454 ],\n",
       "       [ 2.31353522, -2.62038074],\n",
       "       [ 1.84800289,  0.18799967],\n",
       "       [ 1.09649923,  0.29708201],\n",
       "       [ 1.1812503 ,  0.81858241],\n",
       "       [ 2.79178861, -0.83668445],\n",
       "       [ 1.57340399, -1.07118383],\n",
       "       [ 1.33614369, -0.420823  ],\n",
       "       [ 0.91061354, -0.01965942],\n",
       "       [ 1.84350913, -0.66872729],\n",
       "       [ 2.00701161, -0.60663655],\n",
       "       [ 1.89319854, -0.68227708],\n",
       "       [ 1.13831104,  0.70171953],\n",
       "       [ 2.03519535, -0.86076914],\n",
       "       [ 1.99464025, -1.04517619],\n",
       "       [ 1.85977129, -0.37934387],\n",
       "       [ 1.54200377,  0.90808604],\n",
       "       [ 1.50925493, -0.26460621],\n",
       "       [ 1.3690965 , -1.01583909],\n",
       "       [ 0.94680339,  0.02182097]])"
      ]
     },
     "execution_count": 20,
     "metadata": {},
     "output_type": "execute_result"
    }
   ],
   "execution_count": 20
  },
  {
   "metadata": {
    "ExecuteTime": {
     "end_time": "2024-04-30T13:59:07.508175Z",
     "start_time": "2024-04-30T13:59:07.501488Z"
    }
   },
   "cell_type": "code",
   "source": [
    "# Assuming pca is the PCA object fitted to your data\n",
    "num_components = 2  # Number of principal components to retain\n",
    "\n",
    "# Project data onto lower-dimensional subspace\n",
    "projected_data = pca.transform(x)[:, :num_components]\n",
    "\n",
    "# Convert the projected data into a DataFrame\n",
    "projected_df = pd.DataFrame(projected_data, columns=['PC1', 'PC2'])\n",
    "\n",
    "# Add the 'class' column from the original DataFrame to the projected DataFrame\n",
    "projected_df['class'] = df['class']\n"
   ],
   "outputs": [],
   "execution_count": 21
  },
  {
   "metadata": {
    "ExecuteTime": {
     "end_time": "2024-04-30T13:59:07.786350Z",
     "start_time": "2024-04-30T13:59:07.509241Z"
    }
   },
   "cell_type": "code",
   "source": [
    "# Define species and corresponding colors\n",
    "species = ['Iris-setosa', 'Iris-versicolor', 'Iris-virginica']\n",
    "colors = ['r', 'g', 'b']\n",
    "\n",
    "fig, ax = plt.subplots()\n",
    "\n",
    "for i, spec in enumerate(species):\n",
    "    spec_df = projected_df[projected_df['class'] == spec]\n",
    "    ax.scatter(spec_df['PC1'], spec_df['PC2'], color=colors[i], label=spec)\n",
    "\n",
    "ax.legend()\n",
    "plt.xlabel('PC1')\n",
    "plt.ylabel('PC2')\n",
    "plt.title('Scatter Plot of Projected Data')\n",
    "plt.show()"
   ],
   "outputs": [
    {
     "data": {
      "text/plain": [
       "<Figure size 1200x800 with 1 Axes>"
      ],
      "image/png": "[encoded data removed]"
     },
     "metadata": {},
     "output_type": "display_data"
    }
   ],
   "execution_count": 22
  }
 ],
 "metadata": {
  "kernelspec": {
   "display_name": "Python 3",
   "language": "python",
   "name": "python3"
  },
  "language_info": {
   "codemirror_mode": {
    "name": "ipython",
    "version": 3
   },
   "file_extension": ".py",
   "mimetype": "text/x-python",
   "name": "python",
   "nbconvert_exporter": "python",
   "pygments_lexer": "ipython3",
   "version": "3.6.8"
  }
 },
 "nbformat": 4,
 "nbformat_minor": 2
}
